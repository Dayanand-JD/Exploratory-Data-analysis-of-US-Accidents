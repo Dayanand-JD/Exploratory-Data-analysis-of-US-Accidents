{
  "nbformat": 4,
  "nbformat_minor": 0,
  "metadata": {
    "colab": {
      "name": "Exploratory Data analysis of US Accidents (4.2 million records).ipynb",
      "provenance": [],
      "collapsed_sections": [
        "n8_mWEJosS9K",
        "d6L1ZVHpweA7"
      ],
      "toc_visible": true,
      "authorship_tag": "ABX9TyMMmk3mhySrzrW7d7689h4c",
      "include_colab_link": true
    },
    "kernelspec": {
      "name": "python3",
      "display_name": "Python 3"
    },
    "language_info": {
      "name": "python"
    },
    "accelerator": "GPU"
  },
  "cells": [
    {
      "cell_type": "markdown",
      "metadata": {
        "id": "view-in-github",
        "colab_type": "text"
      },
      "source": [
        "<a href=\"https://colab.research.google.com/github/Dayanand-JD/Exploratory-Data-analysis-of-US-Accidents/blob/main/Exploratory_Data_analysis_of_US_Accidents_(4_2_million_records).ipynb\" target=\"_parent\"><img src=\"https://colab.research.google.com/assets/colab-badge.svg\" alt=\"Open In Colab\"/></a>"
      ]
    },
    {
      "cell_type": "code",
      "metadata": {
        "id": "ARoELRCtsLFd"
      },
      "source": [
        ""
      ],
      "execution_count": null,
      "outputs": []
    },
    {
      "cell_type": "markdown",
      "metadata": {
        "id": "n8_mWEJosS9K"
      },
      "source": [
        "# Exploratory Data analysis of 4.2 Millon US Road accidents.\n",
        "\n",
        "This is a countrywide car accident dataset, which covers 49 states of the USA. The accident data are **collected from February 2016 to Dec 2020**, using **two APIs that provide streaming traffic incident** (or event) data. These APIs broadcast traffic data captured by a variety of entities, such as the **US and state departments of transportation, law enforcement agencies, traffic cameras, and traffic sensors within the road-networks**. Currently, there are about **4.2 million accident records in this dataset**.\n",
        "\n",
        "\n",
        "\n",
        "-Kaggle\n",
        "-informaiton about accidents\n",
        "-can use useful to prevent accidents\n",
        "-mention that this does not contain data about New York\n",
        "\n"
      ]
    },
    {
      "cell_type": "code",
      "metadata": {
        "colab": {
          "base_uri": "https://localhost:8080/"
        },
        "id": "aygv8431spEc",
        "outputId": "5c2afa6a-1ec0-4956-eeec-b50499ac2edd"
      },
      "source": [
        "!pip install opendatasets --upgrade --quiet #library to add data from kaggle.\n",
        "\n",
        "import opendatasets as od\n",
        "\n",
        "download_url = 'https://www.kaggle.com/sobhanmoosavi/us-accidents'\n",
        "#for downbloading dataset to google colob\n",
        "od.download(download_url)\n"
      ],
      "execution_count": 3,
      "outputs": [
        {
          "output_type": "stream",
          "text": [
            "Please provide your Kaggle credentials to download this dataset. Learn more: http://bit.ly/kaggle-creds\n",
            "Your Kaggle username: dayanandjd\n",
            "Your Kaggle Key: ··········\n"
          ],
          "name": "stdout"
        },
        {
          "output_type": "stream",
          "text": [
            "  3%|▎         | 9.00M/299M [00:00<00:03, 91.1MB/s]"
          ],
          "name": "stderr"
        },
        {
          "output_type": "stream",
          "text": [
            "Downloading us-accidents.zip to ./us-accidents\n"
          ],
          "name": "stdout"
        },
        {
          "output_type": "stream",
          "text": [
            "100%|██████████| 299M/299M [00:01<00:00, 179MB/s]\n"
          ],
          "name": "stderr"
        },
        {
          "output_type": "stream",
          "text": [
            "\n"
          ],
          "name": "stdout"
        }
      ]
    },
    {
      "cell_type": "code",
      "metadata": {
        "id": "bGysFMfKwEzE"
      },
      "source": [
        "data_filename = './us-accidents/US_Accidents_Dec20.csv'"
      ],
      "execution_count": 4,
      "outputs": []
    },
    {
      "cell_type": "markdown",
      "metadata": {
        "id": "d6L1ZVHpweA7"
      },
      "source": [
        "# Data Preparation and Cleaning\n",
        "-Load the file using Pandas\n",
        "-Look at some information about the data & the columns\n",
        "\n",
        "1.   Load the file using Pandas\n",
        "2.   Look at some information about the data & the columns\n",
        "3.   Fix any missing or incorrect values\n"
      ]
    },
    {
      "cell_type": "code",
      "metadata": {
        "colab": {
          "base_uri": "https://localhost:8080/",
          "height": 518
        },
        "id": "AzxPc5OrxHNT",
        "outputId": "0c1c5049-5d60-477c-ca7f-1f6d75ed8511"
      },
      "source": [
        "import pandas as pd\n",
        "import matplotlib.pyplot as plt\n",
        "import matplotlib.style as style\n",
        "import seaborn as sns\n",
        "%matplotlib inline\n",
        "style.use('fivethirtyeight')\n",
        "df=pd.read_csv(data_filename)\n",
        "df.head(5)"
      ],
      "execution_count": 49,
      "outputs": [
        {
          "output_type": "execute_result",
          "data": {
            "text/html": [
              "<div>\n",
              "<style scoped>\n",
              "    .dataframe tbody tr th:only-of-type {\n",
              "        vertical-align: middle;\n",
              "    }\n",
              "\n",
              "    .dataframe tbody tr th {\n",
              "        vertical-align: top;\n",
              "    }\n",
              "\n",
              "    .dataframe thead th {\n",
              "        text-align: right;\n",
              "    }\n",
              "</style>\n",
              "<table border=\"1\" class=\"dataframe\">\n",
              "  <thead>\n",
              "    <tr style=\"text-align: right;\">\n",
              "      <th></th>\n",
              "      <th>ID</th>\n",
              "      <th>Source</th>\n",
              "      <th>TMC</th>\n",
              "      <th>Severity</th>\n",
              "      <th>Start_Time</th>\n",
              "      <th>End_Time</th>\n",
              "      <th>Start_Lat</th>\n",
              "      <th>Start_Lng</th>\n",
              "      <th>End_Lat</th>\n",
              "      <th>End_Lng</th>\n",
              "      <th>Distance(mi)</th>\n",
              "      <th>Description</th>\n",
              "      <th>Number</th>\n",
              "      <th>Street</th>\n",
              "      <th>Side</th>\n",
              "      <th>City</th>\n",
              "      <th>County</th>\n",
              "      <th>State</th>\n",
              "      <th>Zipcode</th>\n",
              "      <th>Country</th>\n",
              "      <th>Timezone</th>\n",
              "      <th>Airport_Code</th>\n",
              "      <th>Weather_Timestamp</th>\n",
              "      <th>Temperature(F)</th>\n",
              "      <th>Wind_Chill(F)</th>\n",
              "      <th>Humidity(%)</th>\n",
              "      <th>Pressure(in)</th>\n",
              "      <th>Visibility(mi)</th>\n",
              "      <th>Wind_Direction</th>\n",
              "      <th>Wind_Speed(mph)</th>\n",
              "      <th>Precipitation(in)</th>\n",
              "      <th>Weather_Condition</th>\n",
              "      <th>Amenity</th>\n",
              "      <th>Bump</th>\n",
              "      <th>Crossing</th>\n",
              "      <th>Give_Way</th>\n",
              "      <th>Junction</th>\n",
              "      <th>No_Exit</th>\n",
              "      <th>Railway</th>\n",
              "      <th>Roundabout</th>\n",
              "      <th>Station</th>\n",
              "      <th>Stop</th>\n",
              "      <th>Traffic_Calming</th>\n",
              "      <th>Traffic_Signal</th>\n",
              "      <th>Turning_Loop</th>\n",
              "      <th>Sunrise_Sunset</th>\n",
              "      <th>Civil_Twilight</th>\n",
              "      <th>Nautical_Twilight</th>\n",
              "      <th>Astronomical_Twilight</th>\n",
              "    </tr>\n",
              "  </thead>\n",
              "  <tbody>\n",
              "    <tr>\n",
              "      <th>0</th>\n",
              "      <td>A-1</td>\n",
              "      <td>MapQuest</td>\n",
              "      <td>201.0</td>\n",
              "      <td>3</td>\n",
              "      <td>2016-02-08 05:46:00</td>\n",
              "      <td>2016-02-08 11:00:00</td>\n",
              "      <td>39.865147</td>\n",
              "      <td>-84.058723</td>\n",
              "      <td>NaN</td>\n",
              "      <td>NaN</td>\n",
              "      <td>0.01</td>\n",
              "      <td>Right lane blocked due to accident on I-70 Eas...</td>\n",
              "      <td>NaN</td>\n",
              "      <td>I-70 E</td>\n",
              "      <td>R</td>\n",
              "      <td>Dayton</td>\n",
              "      <td>Montgomery</td>\n",
              "      <td>OH</td>\n",
              "      <td>45424</td>\n",
              "      <td>US</td>\n",
              "      <td>US/Eastern</td>\n",
              "      <td>KFFO</td>\n",
              "      <td>2016-02-08 05:58:00</td>\n",
              "      <td>36.9</td>\n",
              "      <td>NaN</td>\n",
              "      <td>91.0</td>\n",
              "      <td>29.68</td>\n",
              "      <td>10.0</td>\n",
              "      <td>Calm</td>\n",
              "      <td>NaN</td>\n",
              "      <td>0.02</td>\n",
              "      <td>Light Rain</td>\n",
              "      <td>False</td>\n",
              "      <td>False</td>\n",
              "      <td>False</td>\n",
              "      <td>False</td>\n",
              "      <td>False</td>\n",
              "      <td>False</td>\n",
              "      <td>False</td>\n",
              "      <td>False</td>\n",
              "      <td>False</td>\n",
              "      <td>False</td>\n",
              "      <td>False</td>\n",
              "      <td>False</td>\n",
              "      <td>False</td>\n",
              "      <td>Night</td>\n",
              "      <td>Night</td>\n",
              "      <td>Night</td>\n",
              "      <td>Night</td>\n",
              "    </tr>\n",
              "    <tr>\n",
              "      <th>1</th>\n",
              "      <td>A-2</td>\n",
              "      <td>MapQuest</td>\n",
              "      <td>201.0</td>\n",
              "      <td>2</td>\n",
              "      <td>2016-02-08 06:07:59</td>\n",
              "      <td>2016-02-08 06:37:59</td>\n",
              "      <td>39.928059</td>\n",
              "      <td>-82.831184</td>\n",
              "      <td>NaN</td>\n",
              "      <td>NaN</td>\n",
              "      <td>0.01</td>\n",
              "      <td>Accident on Brice Rd at Tussing Rd. Expect del...</td>\n",
              "      <td>2584.0</td>\n",
              "      <td>Brice Rd</td>\n",
              "      <td>L</td>\n",
              "      <td>Reynoldsburg</td>\n",
              "      <td>Franklin</td>\n",
              "      <td>OH</td>\n",
              "      <td>43068-3402</td>\n",
              "      <td>US</td>\n",
              "      <td>US/Eastern</td>\n",
              "      <td>KCMH</td>\n",
              "      <td>2016-02-08 05:51:00</td>\n",
              "      <td>37.9</td>\n",
              "      <td>NaN</td>\n",
              "      <td>100.0</td>\n",
              "      <td>29.65</td>\n",
              "      <td>10.0</td>\n",
              "      <td>Calm</td>\n",
              "      <td>NaN</td>\n",
              "      <td>0.00</td>\n",
              "      <td>Light Rain</td>\n",
              "      <td>False</td>\n",
              "      <td>False</td>\n",
              "      <td>False</td>\n",
              "      <td>False</td>\n",
              "      <td>False</td>\n",
              "      <td>False</td>\n",
              "      <td>False</td>\n",
              "      <td>False</td>\n",
              "      <td>False</td>\n",
              "      <td>False</td>\n",
              "      <td>False</td>\n",
              "      <td>False</td>\n",
              "      <td>False</td>\n",
              "      <td>Night</td>\n",
              "      <td>Night</td>\n",
              "      <td>Night</td>\n",
              "      <td>Day</td>\n",
              "    </tr>\n",
              "    <tr>\n",
              "      <th>2</th>\n",
              "      <td>A-3</td>\n",
              "      <td>MapQuest</td>\n",
              "      <td>201.0</td>\n",
              "      <td>2</td>\n",
              "      <td>2016-02-08 06:49:27</td>\n",
              "      <td>2016-02-08 07:19:27</td>\n",
              "      <td>39.063148</td>\n",
              "      <td>-84.032608</td>\n",
              "      <td>NaN</td>\n",
              "      <td>NaN</td>\n",
              "      <td>0.01</td>\n",
              "      <td>Accident on OH-32 State Route 32 Westbound at ...</td>\n",
              "      <td>NaN</td>\n",
              "      <td>State Route 32</td>\n",
              "      <td>R</td>\n",
              "      <td>Williamsburg</td>\n",
              "      <td>Clermont</td>\n",
              "      <td>OH</td>\n",
              "      <td>45176</td>\n",
              "      <td>US</td>\n",
              "      <td>US/Eastern</td>\n",
              "      <td>KI69</td>\n",
              "      <td>2016-02-08 06:56:00</td>\n",
              "      <td>36.0</td>\n",
              "      <td>33.3</td>\n",
              "      <td>100.0</td>\n",
              "      <td>29.67</td>\n",
              "      <td>10.0</td>\n",
              "      <td>SW</td>\n",
              "      <td>3.5</td>\n",
              "      <td>NaN</td>\n",
              "      <td>Overcast</td>\n",
              "      <td>False</td>\n",
              "      <td>False</td>\n",
              "      <td>False</td>\n",
              "      <td>False</td>\n",
              "      <td>False</td>\n",
              "      <td>False</td>\n",
              "      <td>False</td>\n",
              "      <td>False</td>\n",
              "      <td>False</td>\n",
              "      <td>False</td>\n",
              "      <td>False</td>\n",
              "      <td>True</td>\n",
              "      <td>False</td>\n",
              "      <td>Night</td>\n",
              "      <td>Night</td>\n",
              "      <td>Day</td>\n",
              "      <td>Day</td>\n",
              "    </tr>\n",
              "    <tr>\n",
              "      <th>3</th>\n",
              "      <td>A-4</td>\n",
              "      <td>MapQuest</td>\n",
              "      <td>201.0</td>\n",
              "      <td>3</td>\n",
              "      <td>2016-02-08 07:23:34</td>\n",
              "      <td>2016-02-08 07:53:34</td>\n",
              "      <td>39.747753</td>\n",
              "      <td>-84.205582</td>\n",
              "      <td>NaN</td>\n",
              "      <td>NaN</td>\n",
              "      <td>0.01</td>\n",
              "      <td>Accident on I-75 Southbound at Exits 52 52B US...</td>\n",
              "      <td>NaN</td>\n",
              "      <td>I-75 S</td>\n",
              "      <td>R</td>\n",
              "      <td>Dayton</td>\n",
              "      <td>Montgomery</td>\n",
              "      <td>OH</td>\n",
              "      <td>45417</td>\n",
              "      <td>US</td>\n",
              "      <td>US/Eastern</td>\n",
              "      <td>KDAY</td>\n",
              "      <td>2016-02-08 07:38:00</td>\n",
              "      <td>35.1</td>\n",
              "      <td>31.0</td>\n",
              "      <td>96.0</td>\n",
              "      <td>29.64</td>\n",
              "      <td>9.0</td>\n",
              "      <td>SW</td>\n",
              "      <td>4.6</td>\n",
              "      <td>NaN</td>\n",
              "      <td>Mostly Cloudy</td>\n",
              "      <td>False</td>\n",
              "      <td>False</td>\n",
              "      <td>False</td>\n",
              "      <td>False</td>\n",
              "      <td>False</td>\n",
              "      <td>False</td>\n",
              "      <td>False</td>\n",
              "      <td>False</td>\n",
              "      <td>False</td>\n",
              "      <td>False</td>\n",
              "      <td>False</td>\n",
              "      <td>False</td>\n",
              "      <td>False</td>\n",
              "      <td>Night</td>\n",
              "      <td>Day</td>\n",
              "      <td>Day</td>\n",
              "      <td>Day</td>\n",
              "    </tr>\n",
              "    <tr>\n",
              "      <th>4</th>\n",
              "      <td>A-5</td>\n",
              "      <td>MapQuest</td>\n",
              "      <td>201.0</td>\n",
              "      <td>2</td>\n",
              "      <td>2016-02-08 07:39:07</td>\n",
              "      <td>2016-02-08 08:09:07</td>\n",
              "      <td>39.627781</td>\n",
              "      <td>-84.188354</td>\n",
              "      <td>NaN</td>\n",
              "      <td>NaN</td>\n",
              "      <td>0.01</td>\n",
              "      <td>Accident on McEwen Rd at OH-725 Miamisburg Cen...</td>\n",
              "      <td>NaN</td>\n",
              "      <td>Miamisburg Centerville Rd</td>\n",
              "      <td>R</td>\n",
              "      <td>Dayton</td>\n",
              "      <td>Montgomery</td>\n",
              "      <td>OH</td>\n",
              "      <td>45459</td>\n",
              "      <td>US</td>\n",
              "      <td>US/Eastern</td>\n",
              "      <td>KMGY</td>\n",
              "      <td>2016-02-08 07:53:00</td>\n",
              "      <td>36.0</td>\n",
              "      <td>33.3</td>\n",
              "      <td>89.0</td>\n",
              "      <td>29.65</td>\n",
              "      <td>6.0</td>\n",
              "      <td>SW</td>\n",
              "      <td>3.5</td>\n",
              "      <td>NaN</td>\n",
              "      <td>Mostly Cloudy</td>\n",
              "      <td>False</td>\n",
              "      <td>False</td>\n",
              "      <td>False</td>\n",
              "      <td>False</td>\n",
              "      <td>False</td>\n",
              "      <td>False</td>\n",
              "      <td>False</td>\n",
              "      <td>False</td>\n",
              "      <td>False</td>\n",
              "      <td>False</td>\n",
              "      <td>False</td>\n",
              "      <td>True</td>\n",
              "      <td>False</td>\n",
              "      <td>Day</td>\n",
              "      <td>Day</td>\n",
              "      <td>Day</td>\n",
              "      <td>Day</td>\n",
              "    </tr>\n",
              "  </tbody>\n",
              "</table>\n",
              "</div>"
            ],
            "text/plain": [
              "    ID    Source    TMC  ...  Civil_Twilight Nautical_Twilight Astronomical_Twilight\n",
              "0  A-1  MapQuest  201.0  ...           Night             Night                 Night\n",
              "1  A-2  MapQuest  201.0  ...           Night             Night                   Day\n",
              "2  A-3  MapQuest  201.0  ...           Night               Day                   Day\n",
              "3  A-4  MapQuest  201.0  ...             Day               Day                   Day\n",
              "4  A-5  MapQuest  201.0  ...             Day               Day                   Day\n",
              "\n",
              "[5 rows x 49 columns]"
            ]
          },
          "metadata": {
            "tags": []
          },
          "execution_count": 49
        }
      ]
    },
    {
      "cell_type": "code",
      "metadata": {
        "colab": {
          "base_uri": "https://localhost:8080/"
        },
        "id": "qVubyAAgyrAJ",
        "outputId": "be836e09-4684-48a9-b6f1-80e4e0dc28b3"
      },
      "source": [
        "df.info()\n"
      ],
      "execution_count": 7,
      "outputs": [
        {
          "output_type": "stream",
          "text": [
            "<class 'pandas.core.frame.DataFrame'>\n",
            "RangeIndex: 4232541 entries, 0 to 4232540\n",
            "Data columns (total 49 columns):\n",
            " #   Column                 Dtype  \n",
            "---  ------                 -----  \n",
            " 0   ID                     object \n",
            " 1   Source                 object \n",
            " 2   TMC                    float64\n",
            " 3   Severity               int64  \n",
            " 4   Start_Time             object \n",
            " 5   End_Time               object \n",
            " 6   Start_Lat              float64\n",
            " 7   Start_Lng              float64\n",
            " 8   End_Lat                float64\n",
            " 9   End_Lng                float64\n",
            " 10  Distance(mi)           float64\n",
            " 11  Description            object \n",
            " 12  Number                 float64\n",
            " 13  Street                 object \n",
            " 14  Side                   object \n",
            " 15  City                   object \n",
            " 16  County                 object \n",
            " 17  State                  object \n",
            " 18  Zipcode                object \n",
            " 19  Country                object \n",
            " 20  Timezone               object \n",
            " 21  Airport_Code           object \n",
            " 22  Weather_Timestamp      object \n",
            " 23  Temperature(F)         float64\n",
            " 24  Wind_Chill(F)          float64\n",
            " 25  Humidity(%)            float64\n",
            " 26  Pressure(in)           float64\n",
            " 27  Visibility(mi)         float64\n",
            " 28  Wind_Direction         object \n",
            " 29  Wind_Speed(mph)        float64\n",
            " 30  Precipitation(in)      float64\n",
            " 31  Weather_Condition      object \n",
            " 32  Amenity                bool   \n",
            " 33  Bump                   bool   \n",
            " 34  Crossing               bool   \n",
            " 35  Give_Way               bool   \n",
            " 36  Junction               bool   \n",
            " 37  No_Exit                bool   \n",
            " 38  Railway                bool   \n",
            " 39  Roundabout             bool   \n",
            " 40  Station                bool   \n",
            " 41  Stop                   bool   \n",
            " 42  Traffic_Calming        bool   \n",
            " 43  Traffic_Signal         bool   \n",
            " 44  Turning_Loop           bool   \n",
            " 45  Sunrise_Sunset         object \n",
            " 46  Civil_Twilight         object \n",
            " 47  Nautical_Twilight      object \n",
            " 48  Astronomical_Twilight  object \n",
            "dtypes: bool(13), float64(14), int64(1), object(21)\n",
            "memory usage: 1.2+ GB\n"
          ],
          "name": "stdout"
        }
      ]
    },
    {
      "cell_type": "code",
      "metadata": {
        "colab": {
          "base_uri": "https://localhost:8080/",
          "height": 304
        },
        "id": "zJlPXi-OzfPS",
        "outputId": "f2ff0abd-c25e-46da-87e4-6d8a9d523de2"
      },
      "source": [
        "df.describe()\n"
      ],
      "execution_count": 8,
      "outputs": [
        {
          "output_type": "execute_result",
          "data": {
            "text/html": [
              "<div>\n",
              "<style scoped>\n",
              "    .dataframe tbody tr th:only-of-type {\n",
              "        vertical-align: middle;\n",
              "    }\n",
              "\n",
              "    .dataframe tbody tr th {\n",
              "        vertical-align: top;\n",
              "    }\n",
              "\n",
              "    .dataframe thead th {\n",
              "        text-align: right;\n",
              "    }\n",
              "</style>\n",
              "<table border=\"1\" class=\"dataframe\">\n",
              "  <thead>\n",
              "    <tr style=\"text-align: right;\">\n",
              "      <th></th>\n",
              "      <th>TMC</th>\n",
              "      <th>Severity</th>\n",
              "      <th>Start_Lat</th>\n",
              "      <th>Start_Lng</th>\n",
              "      <th>End_Lat</th>\n",
              "      <th>End_Lng</th>\n",
              "      <th>Distance(mi)</th>\n",
              "      <th>Number</th>\n",
              "      <th>Temperature(F)</th>\n",
              "      <th>Wind_Chill(F)</th>\n",
              "      <th>Humidity(%)</th>\n",
              "      <th>Pressure(in)</th>\n",
              "      <th>Visibility(mi)</th>\n",
              "      <th>Wind_Speed(mph)</th>\n",
              "      <th>Precipitation(in)</th>\n",
              "    </tr>\n",
              "  </thead>\n",
              "  <tbody>\n",
              "    <tr>\n",
              "      <th>count</th>\n",
              "      <td>2.716477e+06</td>\n",
              "      <td>4.232541e+06</td>\n",
              "      <td>4.232541e+06</td>\n",
              "      <td>4.232541e+06</td>\n",
              "      <td>1.516064e+06</td>\n",
              "      <td>1.516064e+06</td>\n",
              "      <td>4.232541e+06</td>\n",
              "      <td>1.544592e+06</td>\n",
              "      <td>4.142641e+06</td>\n",
              "      <td>2.336540e+06</td>\n",
              "      <td>4.137074e+06</td>\n",
              "      <td>4.156157e+06</td>\n",
              "      <td>4.133873e+06</td>\n",
              "      <td>3.753215e+06</td>\n",
              "      <td>2.166952e+06</td>\n",
              "    </tr>\n",
              "    <tr>\n",
              "      <th>mean</th>\n",
              "      <td>2.083517e+02</td>\n",
              "      <td>2.305035e+00</td>\n",
              "      <td>3.639782e+01</td>\n",
              "      <td>-9.546420e+01</td>\n",
              "      <td>3.690061e+01</td>\n",
              "      <td>-9.859901e+01</td>\n",
              "      <td>3.357021e-01</td>\n",
              "      <td>6.141507e+03</td>\n",
              "      <td>6.147799e+01</td>\n",
              "      <td>5.489319e+01</td>\n",
              "      <td>6.567422e+01</td>\n",
              "      <td>2.969371e+01</td>\n",
              "      <td>9.111991e+00</td>\n",
              "      <td>7.903433e+00</td>\n",
              "      <td>1.244719e-02</td>\n",
              "    </tr>\n",
              "    <tr>\n",
              "      <th>std</th>\n",
              "      <td>2.124413e+01</td>\n",
              "      <td>5.332261e-01</td>\n",
              "      <td>4.964404e+00</td>\n",
              "      <td>1.735319e+01</td>\n",
              "      <td>5.165629e+00</td>\n",
              "      <td>1.849590e+01</td>\n",
              "      <td>1.602143e+00</td>\n",
              "      <td>1.492268e+04</td>\n",
              "      <td>1.852586e+01</td>\n",
              "      <td>2.272355e+01</td>\n",
              "      <td>2.272342e+01</td>\n",
              "      <td>8.639260e-01</td>\n",
              "      <td>2.817582e+00</td>\n",
              "      <td>5.330998e+00</td>\n",
              "      <td>1.637154e-01</td>\n",
              "    </tr>\n",
              "    <tr>\n",
              "      <th>min</th>\n",
              "      <td>2.000000e+02</td>\n",
              "      <td>1.000000e+00</td>\n",
              "      <td>2.455527e+01</td>\n",
              "      <td>-1.246238e+02</td>\n",
              "      <td>2.457011e+01</td>\n",
              "      <td>-1.244978e+02</td>\n",
              "      <td>0.000000e+00</td>\n",
              "      <td>0.000000e+00</td>\n",
              "      <td>-8.900000e+01</td>\n",
              "      <td>-8.900000e+01</td>\n",
              "      <td>1.000000e+00</td>\n",
              "      <td>0.000000e+00</td>\n",
              "      <td>0.000000e+00</td>\n",
              "      <td>0.000000e+00</td>\n",
              "      <td>0.000000e+00</td>\n",
              "    </tr>\n",
              "    <tr>\n",
              "      <th>25%</th>\n",
              "      <td>2.010000e+02</td>\n",
              "      <td>2.000000e+00</td>\n",
              "      <td>3.352058e+01</td>\n",
              "      <td>-1.173570e+02</td>\n",
              "      <td>3.385420e+01</td>\n",
              "      <td>-1.182077e+02</td>\n",
              "      <td>0.000000e+00</td>\n",
              "      <td>8.980000e+02</td>\n",
              "      <td>4.900000e+01</td>\n",
              "      <td>3.800000e+01</td>\n",
              "      <td>4.900000e+01</td>\n",
              "      <td>2.964000e+01</td>\n",
              "      <td>1.000000e+01</td>\n",
              "      <td>4.600000e+00</td>\n",
              "      <td>0.000000e+00</td>\n",
              "    </tr>\n",
              "    <tr>\n",
              "      <th>50%</th>\n",
              "      <td>2.010000e+02</td>\n",
              "      <td>2.000000e+00</td>\n",
              "      <td>3.582542e+01</td>\n",
              "      <td>-9.002078e+01</td>\n",
              "      <td>3.735134e+01</td>\n",
              "      <td>-9.437987e+01</td>\n",
              "      <td>0.000000e+00</td>\n",
              "      <td>2.890000e+03</td>\n",
              "      <td>6.300000e+01</td>\n",
              "      <td>5.800000e+01</td>\n",
              "      <td>6.800000e+01</td>\n",
              "      <td>2.993000e+01</td>\n",
              "      <td>1.000000e+01</td>\n",
              "      <td>7.000000e+00</td>\n",
              "      <td>0.000000e+00</td>\n",
              "    </tr>\n",
              "    <tr>\n",
              "      <th>75%</th>\n",
              "      <td>2.010000e+02</td>\n",
              "      <td>3.000000e+00</td>\n",
              "      <td>4.018313e+01</td>\n",
              "      <td>-8.084682e+01</td>\n",
              "      <td>4.072593e+01</td>\n",
              "      <td>-8.087449e+01</td>\n",
              "      <td>8.900000e-02</td>\n",
              "      <td>7.330000e+03</td>\n",
              "      <td>7.520000e+01</td>\n",
              "      <td>7.300000e+01</td>\n",
              "      <td>8.500000e+01</td>\n",
              "      <td>3.008000e+01</td>\n",
              "      <td>1.000000e+01</td>\n",
              "      <td>1.040000e+01</td>\n",
              "      <td>0.000000e+00</td>\n",
              "    </tr>\n",
              "    <tr>\n",
              "      <th>max</th>\n",
              "      <td>4.060000e+02</td>\n",
              "      <td>4.000000e+00</td>\n",
              "      <td>4.900220e+01</td>\n",
              "      <td>-6.711317e+01</td>\n",
              "      <td>4.907500e+01</td>\n",
              "      <td>-6.710924e+01</td>\n",
              "      <td>4.417500e+02</td>\n",
              "      <td>9.999997e+06</td>\n",
              "      <td>2.030000e+02</td>\n",
              "      <td>1.890000e+02</td>\n",
              "      <td>1.000000e+02</td>\n",
              "      <td>5.804000e+01</td>\n",
              "      <td>1.400000e+02</td>\n",
              "      <td>9.840000e+02</td>\n",
              "      <td>2.500000e+01</td>\n",
              "    </tr>\n",
              "  </tbody>\n",
              "</table>\n",
              "</div>"
            ],
            "text/plain": [
              "                TMC      Severity  ...  Wind_Speed(mph)  Precipitation(in)\n",
              "count  2.716477e+06  4.232541e+06  ...     3.753215e+06       2.166952e+06\n",
              "mean   2.083517e+02  2.305035e+00  ...     7.903433e+00       1.244719e-02\n",
              "std    2.124413e+01  5.332261e-01  ...     5.330998e+00       1.637154e-01\n",
              "min    2.000000e+02  1.000000e+00  ...     0.000000e+00       0.000000e+00\n",
              "25%    2.010000e+02  2.000000e+00  ...     4.600000e+00       0.000000e+00\n",
              "50%    2.010000e+02  2.000000e+00  ...     7.000000e+00       0.000000e+00\n",
              "75%    2.010000e+02  3.000000e+00  ...     1.040000e+01       0.000000e+00\n",
              "max    4.060000e+02  4.000000e+00  ...     9.840000e+02       2.500000e+01\n",
              "\n",
              "[8 rows x 15 columns]"
            ]
          },
          "metadata": {
            "tags": []
          },
          "execution_count": 8
        }
      ]
    },
    {
      "cell_type": "markdown",
      "metadata": {
        "id": "yjs9JERQzxhO"
      },
      "source": [
        "Percentage of missing values per column"
      ]
    },
    {
      "cell_type": "markdown",
      "metadata": {
        "id": "n-yLf52Yzxez"
      },
      "source": [
        ""
      ]
    },
    {
      "cell_type": "code",
      "metadata": {
        "colab": {
          "base_uri": "https://localhost:8080/"
        },
        "id": "e_BY8VfKzkTC",
        "outputId": "33484256-f35a-49cd-db17-9a315571cce7"
      },
      "source": [
        "missing_percentages = df.isna().sum().sort_values(ascending=False) / len(df)\n",
        "missing_percentages"
      ],
      "execution_count": 9,
      "outputs": [
        {
          "output_type": "execute_result",
          "data": {
            "text/plain": [
              "End_Lat                  6.418076e-01\n",
              "End_Lng                  6.418076e-01\n",
              "Number                   6.350674e-01\n",
              "Precipitation(in)        4.880258e-01\n",
              "Wind_Chill(F)            4.479581e-01\n",
              "TMC                      3.581924e-01\n",
              "Wind_Speed(mph)          1.132478e-01\n",
              "Visibility(mi)           2.331176e-02\n",
              "Weather_Condition        2.324443e-02\n",
              "Humidity(%)              2.255548e-02\n",
              "Temperature(F)           2.124020e-02\n",
              "Wind_Direction           1.975433e-02\n",
              "Pressure(in)             1.804684e-02\n",
              "Weather_Timestamp        1.480057e-02\n",
              "Airport_Code             2.120003e-03\n",
              "Timezone                 1.090362e-03\n",
              "Zipcode                  3.052540e-04\n",
              "Nautical_Twilight        3.331332e-05\n",
              "Astronomical_Twilight    3.331332e-05\n",
              "Civil_Twilight           3.331332e-05\n",
              "Sunrise_Sunset           3.331332e-05\n",
              "City                     3.236826e-05\n",
              "Description              4.725294e-07\n",
              "Amenity                  0.000000e+00\n",
              "Street                   0.000000e+00\n",
              "Source                   0.000000e+00\n",
              "Severity                 0.000000e+00\n",
              "Start_Time               0.000000e+00\n",
              "End_Time                 0.000000e+00\n",
              "Start_Lat                0.000000e+00\n",
              "Start_Lng                0.000000e+00\n",
              "Turning_Loop             0.000000e+00\n",
              "Distance(mi)             0.000000e+00\n",
              "Traffic_Signal           0.000000e+00\n",
              "Side                     0.000000e+00\n",
              "Bump                     0.000000e+00\n",
              "County                   0.000000e+00\n",
              "State                    0.000000e+00\n",
              "Traffic_Calming          0.000000e+00\n",
              "Country                  0.000000e+00\n",
              "Stop                     0.000000e+00\n",
              "Station                  0.000000e+00\n",
              "Roundabout               0.000000e+00\n",
              "Railway                  0.000000e+00\n",
              "No_Exit                  0.000000e+00\n",
              "Junction                 0.000000e+00\n",
              "Give_Way                 0.000000e+00\n",
              "Crossing                 0.000000e+00\n",
              "ID                       0.000000e+00\n",
              "dtype: float64"
            ]
          },
          "metadata": {
            "tags": []
          },
          "execution_count": 9
        }
      ]
    },
    {
      "cell_type": "code",
      "metadata": {
        "colab": {
          "base_uri": "https://localhost:8080/",
          "height": 551
        },
        "id": "rMx346xi0EuE",
        "outputId": "dc02713b-15c9-488c-c0c6-e1b50104e340"
      },
      "source": [
        "missing_percentages[missing_percentages != 0].plot(kind='barh', figsize=(12,8)).text( x=0, y=-3,\n",
        "    s = ' ©Dayanand Jola Dinakar                                                             Source: Data Collected by Sobhan Moosavi Accessed via Kaggle ',\n",
        "               fontsize = 14, color = '#f0f0f0', backgroundcolor = 'grey');"
      ],
      "execution_count": 83,
      "outputs": [
        {
          "output_type": "display_data",
          "data": {
            "image/png": "[encoded data removed]",
            "text/plain": [
              "<Figure size 864x576 with 1 Axes>"
            ]
          },
          "metadata": {
            "tags": []
          }
        }
      ]
    },
    {
      "cell_type": "markdown",
      "metadata": {
        "id": "eXbjov0X0SBv"
      },
      "source": [
        "#Exploratory Analysis and Visualization\n",
        "Columns we'll analyze:\n",
        "\n",
        "1.   City\n",
        "2.   Start time\n",
        "3. Start Lat, Start Lng\n",
        "4. Temperature\n",
        "5. Weather Condition\n",
        "\n",
        "\n"
      ]
    },
    {
      "cell_type": "code",
      "metadata": {
        "colab": {
          "base_uri": "https://localhost:8080/"
        },
        "id": "twuaByRf0tB2",
        "outputId": "55f5d51e-e473-4726-9c1e-8d411c11e32b"
      },
      "source": [
        "df.columns\n"
      ],
      "execution_count": 11,
      "outputs": [
        {
          "output_type": "execute_result",
          "data": {
            "text/plain": [
              "Index(['ID', 'Source', 'TMC', 'Severity', 'Start_Time', 'End_Time',\n",
              "       'Start_Lat', 'Start_Lng', 'End_Lat', 'End_Lng', 'Distance(mi)',\n",
              "       'Description', 'Number', 'Street', 'Side', 'City', 'County', 'State',\n",
              "       'Zipcode', 'Country', 'Timezone', 'Airport_Code', 'Weather_Timestamp',\n",
              "       'Temperature(F)', 'Wind_Chill(F)', 'Humidity(%)', 'Pressure(in)',\n",
              "       'Visibility(mi)', 'Wind_Direction', 'Wind_Speed(mph)',\n",
              "       'Precipitation(in)', 'Weather_Condition', 'Amenity', 'Bump', 'Crossing',\n",
              "       'Give_Way', 'Junction', 'No_Exit', 'Railway', 'Roundabout', 'Station',\n",
              "       'Stop', 'Traffic_Calming', 'Traffic_Signal', 'Turning_Loop',\n",
              "       'Sunrise_Sunset', 'Civil_Twilight', 'Nautical_Twilight',\n",
              "       'Astronomical_Twilight'],\n",
              "      dtype='object')"
            ]
          },
          "metadata": {
            "tags": []
          },
          "execution_count": 11
        }
      ]
    },
    {
      "cell_type": "markdown",
      "metadata": {
        "id": "9kduQmjo0_SG"
      },
      "source": [
        "top *20* cities with most accidents "
      ]
    },
    {
      "cell_type": "code",
      "metadata": {
        "colab": {
          "base_uri": "https://localhost:8080/"
        },
        "id": "TqLMUlop0uP9",
        "outputId": "1f54577d-4920-4214-b53d-4f165997bdf0"
      },
      "source": [
        "cities_by_accident = df.City.value_counts()\n",
        "cities_by_accident.head(20)"
      ],
      "execution_count": 13,
      "outputs": [
        {
          "output_type": "execute_result",
          "data": {
            "text/plain": [
              "Houston          114905\n",
              "Los Angeles       92701\n",
              "Charlotte         88887\n",
              "Dallas            77303\n",
              "Austin            70538\n",
              "Miami             63162\n",
              "Raleigh           52876\n",
              "Atlanta           46328\n",
              "Baton Rouge       42814\n",
              "Nashville         41850\n",
              "Orlando           39561\n",
              "Oklahoma City     39484\n",
              "Sacramento        38061\n",
              "Phoenix           32805\n",
              "Minneapolis       31781\n",
              "San Diego         29416\n",
              "Seattle           28004\n",
              "Richmond          27907\n",
              "San Antonio       27516\n",
              "Jacksonville      24009\n",
              "Name: City, dtype: int64"
            ]
          },
          "metadata": {
            "tags": []
          },
          "execution_count": 13
        }
      ]
    },
    {
      "cell_type": "code",
      "metadata": {
        "colab": {
          "base_uri": "https://localhost:8080/",
          "height": 556
        },
        "id": "Mux-Tzvi0s3K",
        "outputId": "a3e90029-be9e-40cb-fd80-612263a30e97"
      },
      "source": [
        "\n",
        "cities_by_accident[:20].plot(kind='barh', figsize=(12,8), title='top 20 cities with most accidents ').text( x=-20000, y=-2,\n",
        "    s = ' ©Dayanand Jola Dinakar                                                                   Source: Data Collected by Sobhan Moosavi Accessed via Kaggle ',\n",
        "               fontsize = 14, color = '#f0f0f0', backgroundcolor = 'grey');"
      ],
      "execution_count": 43,
      "outputs": [
        {
          "output_type": "display_data",
          "data": {
            "image/png": "[encoded data removed]",
            "text/plain": [
              "<Figure size 864x576 with 1 Axes>"
            ]
          },
          "metadata": {
            "tags": []
          }
        }
      ]
    },
    {
      "cell_type": "markdown",
      "metadata": {
        "id": "E2FvgA1C7u3A"
      },
      "source": [
        "##Start time"
      ]
    },
    {
      "cell_type": "code",
      "metadata": {
        "colab": {
          "base_uri": "https://localhost:8080/"
        },
        "id": "B0GOtzom7sFn",
        "outputId": "c3e3500e-cb38-479a-9f14-5d7a3090294b"
      },
      "source": [
        "df.Start_Time.head(5)\n"
      ],
      "execution_count": 46,
      "outputs": [
        {
          "output_type": "execute_result",
          "data": {
            "text/plain": [
              "0    2016-02-08 05:46:00\n",
              "1    2016-02-08 06:07:59\n",
              "2    2016-02-08 06:49:27\n",
              "3    2016-02-08 07:23:34\n",
              "4    2016-02-08 07:39:07\n",
              "Name: Start_Time, dtype: object"
            ]
          },
          "metadata": {
            "tags": []
          },
          "execution_count": 46
        }
      ]
    },
    {
      "cell_type": "markdown",
      "metadata": {
        "id": "X2IT2ySW8J_H"
      },
      "source": [
        "Converting to datetime format from timestamp"
      ]
    },
    {
      "cell_type": "code",
      "metadata": {
        "colab": {
          "base_uri": "https://localhost:8080/"
        },
        "id": "2Omp-7Iu73yO",
        "outputId": "1d14f16c-da1b-485c-8516-6e374a1aa527"
      },
      "source": [
        "df.Start_Time = pd.to_datetime(df.Start_Time)\n",
        "df.Start_Time.head(5)"
      ],
      "execution_count": 51,
      "outputs": [
        {
          "output_type": "execute_result",
          "data": {
            "text/plain": [
              "0   2016-02-08 05:46:00\n",
              "1   2016-02-08 06:07:59\n",
              "2   2016-02-08 06:49:27\n",
              "3   2016-02-08 07:23:34\n",
              "4   2016-02-08 07:39:07\n",
              "Name: Start_Time, dtype: datetime64[ns]"
            ]
          },
          "metadata": {
            "tags": []
          },
          "execution_count": 51
        }
      ]
    },
    {
      "cell_type": "code",
      "metadata": {
        "colab": {
          "base_uri": "https://localhost:8080/",
          "height": 491
        },
        "id": "l22dyV7L8s-u",
        "outputId": "07c6aca0-cbd1-4891-b37e-154416b1de34"
      },
      "source": [
        "plt.figure(figsize=(12, 6))\n",
        "sns.distplot(df.Start_Time.dt.hour, bins=24, kde=False, norm_hist=True)"
      ],
      "execution_count": 64,
      "outputs": [
        {
          "output_type": "stream",
          "text": [
            "/usr/local/lib/python3.7/dist-packages/seaborn/distributions.py:2557: FutureWarning: `distplot` is a deprecated function and will be removed in a future version. Please adapt your code to use either `displot` (a figure-level function with similar flexibility) or `histplot` (an axes-level function for histograms).\n",
            "  warnings.warn(msg, FutureWarning)\n"
          ],
          "name": "stderr"
        },
        {
          "output_type": "execute_result",
          "data": {
            "text/plain": [
              "<matplotlib.axes._subplots.AxesSubplot at 0x7f61e0bc7510>"
            ]
          },
          "metadata": {
            "tags": []
          },
          "execution_count": 64
        },
        {
          "output_type": "display_data",
          "data": {
            "image/png": "[encoded data removed]",
            "text/plain": [
              "<Figure size 864x432 with 1 Axes>"
            ]
          },
          "metadata": {
            "tags": []
          }
        }
      ]
    },
    {
      "cell_type": "markdown",
      "metadata": {
        "id": "0P2EKKMn_ulp"
      },
      "source": [
        "\n",
        "\n",
        "\n",
        "* A **high percentage of accidents** occur between **6 am to 10 am **(probably people in a hurry to get to work)\n",
        "*   Next higest percentage is **3 pm to 6 pm.**\n",
        "\n",
        "\n",
        "\n"
      ]
    },
    {
      "cell_type": "markdown",
      "metadata": {
        "id": "RMjPDcgvAROu"
      },
      "source": [
        "Let's trend for the in a week"
      ]
    },
    {
      "cell_type": "code",
      "metadata": {
        "colab": {
          "base_uri": "https://localhost:8080/",
          "height": 491
        },
        "id": "cRR6r0JZADte",
        "outputId": "ab0484e3-ca8b-4c99-a693-d0455f03ce00"
      },
      "source": [
        "plt.figure(figsize=(12,6))\n",
        "sns.distplot(df.Start_Time.dt.dayofweek, bins=7, kde=False, norm_hist=True)"
      ],
      "execution_count": 66,
      "outputs": [
        {
          "output_type": "stream",
          "text": [
            "/usr/local/lib/python3.7/dist-packages/seaborn/distributions.py:2557: FutureWarning: `distplot` is a deprecated function and will be removed in a future version. Please adapt your code to use either `displot` (a figure-level function with similar flexibility) or `histplot` (an axes-level function for histograms).\n",
            "  warnings.warn(msg, FutureWarning)\n"
          ],
          "name": "stderr"
        },
        {
          "output_type": "execute_result",
          "data": {
            "text/plain": [
              "<matplotlib.axes._subplots.AxesSubplot at 0x7f61e07de210>"
            ]
          },
          "metadata": {
            "tags": []
          },
          "execution_count": 66
        },
        {
          "output_type": "display_data",
          "data": {
            "image/png": "[encoded data removed]",
            "text/plain": [
              "<Figure size 864x432 with 1 Axes>"
            ]
          },
          "metadata": {
            "tags": []
          }
        }
      ]
    },
    {
      "cell_type": "markdown",
      "metadata": {
        "id": "eMtZpnDmBVlz"
      },
      "source": [
        "\n",
        "\n",
        "*   Less accdients on weekends \n",
        "*   More accidents on weekdays\n",
        "\n"
      ]
    },
    {
      "cell_type": "code",
      "metadata": {
        "colab": {
          "base_uri": "https://localhost:8080/",
          "height": 374
        },
        "id": "Go5BlndYA0VR",
        "outputId": "914f7b3b-d4e6-4198-9c37-4b7b59fdc258"
      },
      "source": [
        "sundays_start_time = df.Start_Time[df.Start_Time.dt.dayofweek == 6]\n",
        "sns.distplot(sundays_start_time.dt.hour, bins=24, kde=False, norm_hist=True)"
      ],
      "execution_count": 67,
      "outputs": [
        {
          "output_type": "stream",
          "text": [
            "/usr/local/lib/python3.7/dist-packages/seaborn/distributions.py:2557: FutureWarning: `distplot` is a deprecated function and will be removed in a future version. Please adapt your code to use either `displot` (a figure-level function with similar flexibility) or `histplot` (an axes-level function for histograms).\n",
            "  warnings.warn(msg, FutureWarning)\n"
          ],
          "name": "stderr"
        },
        {
          "output_type": "execute_result",
          "data": {
            "text/plain": [
              "<matplotlib.axes._subplots.AxesSubplot at 0x7f62c4bddd90>"
            ]
          },
          "metadata": {
            "tags": []
          },
          "execution_count": 67
        },
        {
          "output_type": "display_data",
          "data": {
            "image/png": "[encoded data removed]",
            "text/plain": [
              "<Figure size 432x288 with 1 Axes>"
            ]
          },
          "metadata": {
            "tags": []
          }
        }
      ]
    },
    {
      "cell_type": "markdown",
      "metadata": {
        "id": "moI4-93pE8yF"
      },
      "source": [
        "\n",
        "\n",
        "* on sunday more accidents between 10-15\n",
        "\n",
        "\n"
      ]
    },
    {
      "cell_type": "markdown",
      "metadata": {
        "id": "j1KJpOskFUZK"
      },
      "source": [
        ""
      ]
    }
  ]
}